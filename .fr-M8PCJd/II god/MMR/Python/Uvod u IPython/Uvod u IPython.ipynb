{
 "cells": [
  {
   "attachments": {
    "IPython1.png": {
     "image/png": "[encoded data removed]"
    },
    "IPython2.jfif": {
     "image/jpeg": "[encoded data removed]"
    }
   },
   "cell_type": "markdown",
   "metadata": {},
   "source": [
    "#  Oznaka glavnog naslova\n",
    "\n",
    "Primer teksta sa \"italik\" i **bold** delovima. Deo teksta koji se ispisuje u suženim marginama počinje simbolom >.\n",
    "\n",
    "> Primer uvučenog teksta.\n",
    "Na ovaj način obično se označavuju citati ili neki istaknuti delovi.\n",
    "\n",
    "Numerisane liste dobijaju se pisanjem nekog rednog broja na početku reda. Pod liste se registruju upotrebom Tab-a. Uređenje oznaka Python sam obavi. Primer numerisane liste dat je u nastavku.\n",
    "1. Prvi nivo\n",
    "    2. Drugi nivo\n",
    "    3. Drugi nivo\n",
    "        4. Treći nivo\n",
    "2. Prvi nivo\n",
    "    3. Drugi nivo\n",
    "    \n",
    "Liste sa znakovima za nabrajanje počinju simbolim - ili *.\n",
    "\n",
    "- kružić\n",
    "- kružić\n",
    "    * kvadrat\n",
    "    * kvadrat\n",
    "    \n",
    "Tekst čiji izgled želimo da ima doslovno isti izgled označava se novim pasusom i uvlačenjem reda za četiri prazne pozicije.\n",
    "\n",
    "    Verbatim tekst\n",
    "\n",
    "Ovakav način prikaza teksta obično se koristi za prikaz programskog koda. Ukoliko želimo da se tom prilikom posebno istaknu rezervisane reči Python programskog jezika koristi se odgovarajuća oznaka.\n",
    "\n",
    "```python\n",
    "print(\"Prva naredba!\")\n",
    "```\n",
    "\n",
    "## Naslov poglavlja\n",
    "\n",
    "Unos matematičkih jednačina koristi LaTex oznake. Jednačine u istom redu sa tekstom počinju i završavaju se simbolom $\\$:$ $x^3-\\cos(x).$ Za centrirane jednačina u posebnom redu koriste se parovi ovih simbola,\n",
    "$$\\frac{\\sqrt{x}}{\\log(x+1)}.$$\n",
    "\n",
    "Višelinijske jednačine sa poravnanjem pišu se u **align** okruženju. Pozicija poravnanja označava se sa &. Prelazak u novi red postiže se dvostrukim simbolom backslash, \\\\\\\\. \n",
    "\\begin{align}\n",
    "2x+3y&=5,\\\\\n",
    "-4x+6y&=1\n",
    "\\end{align}\n",
    "\n",
    "Matrice i determinante su delovi **matrix** okruženja. Elementi po vrstama odvajaju se sa &. Vrste se međusobno odvajaju dvostrukim simbolom backslash, \\\\\\\\. \n",
    "$$\\begin{bmatrix}     %matrica\n",
    "1&2\\\\3&4\n",
    "\\end{bmatrix},\\quad  % veliki razmak unutar matematičke linije\n",
    "\\begin{bmatrix}\n",
    "1&2&3\\\\3&4&5\n",
    "\\end{bmatrix},\\quad\n",
    "\\begin{bmatrix}\n",
    "a_{11}&a_{12}&a_{13}&\\dots&a_{1n}\\\\3&4&5&\\cdots&-5\\\\\n",
    "\\vdots&&&\\ddots&\n",
    "\\end{bmatrix},\\qquad\n",
    "\\begin{vmatrix}      %determinanta\n",
    "1&2\\\\3&4\n",
    "\\end{vmatrix}$$\n",
    "\n",
    "Više informacija o matematičkom modu u LaTexu može se naći na sledećem [linku](https://en.wikibooks.org/wiki/LaTeX/Mathematics)\n",
    "\n",
    "### Naslov paragrafa\n",
    "\n",
    "Kreiranje tabela postiže se upotrebom simbola | i -. Kolone se odvajaju vertikalnom crtom, a vrste prelaskom u novi red. Horizontalna linija posle naslovne vrste kreira se simbolom ---. Sve vrste moraju da imaju jednak broj kolona.\n",
    "\n",
    "|Naslovna| | vrsta|\n",
    "|---|---|---|\n",
    "|prvi element|drugi element|treći element|\n",
    "|$x$|$y$|$z$|\n",
    "\n",
    "\n",
    "Druga opcija je upotreba LaTex [array](http://classes.pratt.duke.edu/OLD/EGR53F09/LabManual/AppB_EGR53_F09.pdf) okruženja.\n",
    "\n",
    "\\begin{array}{ccc}\n",
    "{\\rm Naslovna}&& {\\rm vrsta}\\\\ \\hline\n",
    "{\\rm prvi\\ element}&{\\rm drugi\\ element}&{\\rm treći\\ element}\\\\\n",
    "x&y&z\n",
    "\\end{array}\n",
    "\n",
    "\\begin{array}{c|c|c}\n",
    "{\\rm Naslovna}&& {\\rm vrsta}\\\\ \\hline\\hline\n",
    "{\\rm prvi\\ element}&{\\rm drugi\\ element}&{\\rm treći\\ element}\\\\ \\hline\n",
    "x&y&z\n",
    "\\end{array}\n",
    "\n",
    "\n",
    "\n",
    "### Naslov paragrafa\n",
    "\n",
    "Tekst se može obogatiti postojećim slikama na računaru. Ubacivanje slike u Markdown ćeliju obavlja se kroz Edit karticu. Na njenom dnu nalazi se opcija Insert image. Slike upotrebljene u nastavku možete preuzeti sa [slika1](https://www.google.com/imgres?imgurl=https%3A%2F%2Fpbs.twimg.com%2Fmedia%2FDjdAum0XsAEPGp7.png&imgrefurl=https%3A%2F%2Ftwitter.com%2FNumFOCUS%2Fstatus%2F1024358612020416514&tbnid=_OhFaA7lYinUTM&vet=12ahUKEwjhprvyvbXoAhVXt6QKHb98DuAQMygfegQIARBB..i&docid=Dadhc8OmhUwrPM&w=1024&h=1024&itg=1&q=Ipython%20image&ved=2ahUKEwjhprvyvbXoAhVXt6QKHb98DuAQMygfegQIARBB) i [slika2](https://www.google.com/imgres?imgurl=https%3A%2F%2Fipython.org%2F_images%2Fipy_0.13.png&imgrefurl=https%3A%2F%2Fipython.org%2F&tbnid=8mYM-PbakQGYRM&vet=12ahUKEwjhprvyvbXoAhVXt6QKHb98DuAQMygAegUIARDPAQ..i&docid=NBYnn7uw2aZwnM&w=600&h=340&q=Ipython%20image&ved=2ahUKEwjhprvyvbXoAhVXt6QKHb98DuAQMygAegUIARDPAQ)\n",
    "   ![IPython1.png](attachment:IPython1.png)             ![IPython2.jfif](attachment:IPython2.jfif)\n",
    "   \n",
    "#### Naslovi se struktuiraju do šest nivoa\n",
    "\n",
    "Kodne ćelije mogu se koristiti za interaktivna izračunavanja slično kalkulatoru. Aritmetičke operacije imaju uobičajen oblik. Njihovo izvršenje pokreće se kombinacijom Ctrl+Enter ili pozivom Run iz trake alata. Ukoliko želimo da se prostor za novu kodnu ćeliju automatski otvori po izvršenju aktuelne, izvršenje treba pokrenuti kombinacijom Alt+Enter. Izvršenje aktuelne ćelije i prelazak na sledeću postiže se kombinacijom Shift+Enter. \n",
    "Dodatne mogućnosti upravljanja izvršenjem ćelija dostupne su iz kartice Cell, trake menija."
   ]
  },
  {
   "cell_type": "markdown",
   "metadata": {},
   "source": [
    "### Aritmetičke operacije\n",
    "Sabiranje i oduzimanje"
   ]
  },
  {
   "cell_type": "code",
   "execution_count": 1,
   "metadata": {},
   "outputs": [
    {
     "data": {
      "text/plain": [
       "-1"
      ]
     },
     "execution_count": 1,
     "metadata": {},
     "output_type": "execute_result"
    }
   ],
   "source": [
    "2+3-6"
   ]
  },
  {
   "cell_type": "markdown",
   "metadata": {},
   "source": [
    "Množenje"
   ]
  },
  {
   "cell_type": "code",
   "execution_count": 2,
   "metadata": {},
   "outputs": [
    {
     "data": {
      "text/plain": [
       "20"
      ]
     },
     "execution_count": 2,
     "metadata": {},
     "output_type": "execute_result"
    }
   ],
   "source": [
    "5*4"
   ]
  },
  {
   "cell_type": "markdown",
   "metadata": {},
   "source": [
    "Stepenovanje"
   ]
  },
  {
   "cell_type": "code",
   "execution_count": 3,
   "metadata": {},
   "outputs": [
    {
     "data": {
      "text/plain": [
       "8"
      ]
     },
     "execution_count": 3,
     "metadata": {},
     "output_type": "execute_result"
    }
   ],
   "source": [
    "2**3"
   ]
  },
  {
   "cell_type": "markdown",
   "metadata": {},
   "source": [
    "Deljenje"
   ]
  },
  {
   "cell_type": "code",
   "execution_count": 4,
   "metadata": {},
   "outputs": [
    {
     "data": {
      "text/plain": [
       "1.6"
      ]
     },
     "execution_count": 4,
     "metadata": {},
     "output_type": "execute_result"
    }
   ],
   "source": [
    "(2+6)/5"
   ]
  },
  {
   "cell_type": "markdown",
   "metadata": {},
   "source": [
    "Celobrojno deljenje"
   ]
  },
  {
   "cell_type": "code",
   "execution_count": 5,
   "metadata": {},
   "outputs": [
    {
     "data": {
      "text/plain": [
       "1"
      ]
     },
     "execution_count": 5,
     "metadata": {},
     "output_type": "execute_result"
    }
   ],
   "source": [
    "(2+6)//5"
   ]
  },
  {
   "cell_type": "markdown",
   "metadata": {},
   "source": [
    "Ostatak pri celobrojnom deljenju"
   ]
  },
  {
   "cell_type": "code",
   "execution_count": 6,
   "metadata": {},
   "outputs": [
    {
     "data": {
      "text/plain": [
       "2"
      ]
     },
     "execution_count": 6,
     "metadata": {},
     "output_type": "execute_result"
    }
   ],
   "source": [
    "(2*6)%5"
   ]
  },
  {
   "cell_type": "markdown",
   "metadata": {},
   "source": [
    "### Promenljive \n",
    "\n",
    "Dodela i ispis vrednosti promenljivim vrši se na uobičajen način."
   ]
  },
  {
   "cell_type": "code",
   "execution_count": 7,
   "metadata": {},
   "outputs": [],
   "source": [
    "a=3**2+4**2"
   ]
  },
  {
   "cell_type": "code",
   "execution_count": 8,
   "metadata": {},
   "outputs": [
    {
     "data": {
      "text/plain": [
       "(50+25j)"
      ]
     },
     "execution_count": 8,
     "metadata": {},
     "output_type": "execute_result"
    }
   ],
   "source": [
    "a*(2+1j)   #kompleksni brojevi imaju format x+yj"
   ]
  },
  {
   "cell_type": "code",
   "execution_count": 9,
   "metadata": {},
   "outputs": [
    {
     "data": {
      "text/plain": [
       "25"
      ]
     },
     "execution_count": 9,
     "metadata": {},
     "output_type": "execute_result"
    }
   ],
   "source": [
    "a         #ispis vrednosti promenljive"
   ]
  },
  {
   "cell_type": "markdown",
   "metadata": {},
   "source": [
    "Poslednje proizvedenoj vrednosti može se pristupiti sa _."
   ]
  },
  {
   "cell_type": "code",
   "execution_count": 10,
   "metadata": {},
   "outputs": [
    {
     "data": {
      "text/plain": [
       "28"
      ]
     },
     "execution_count": 10,
     "metadata": {},
     "output_type": "execute_result"
    }
   ],
   "source": [
    "_+3"
   ]
  },
  {
   "cell_type": "markdown",
   "metadata": {},
   "source": [
    "Jedna od interesantnih funkcionalnosti Python programskog jezika je istovremena dodela vrednosti više promenljivih."
   ]
  },
  {
   "cell_type": "code",
   "execution_count": 11,
   "metadata": {},
   "outputs": [],
   "source": [
    "b,c=2-5,3.14"
   ]
  },
  {
   "cell_type": "code",
   "execution_count": 12,
   "metadata": {},
   "outputs": [
    {
     "data": {
      "text/plain": [
       "-3"
      ]
     },
     "execution_count": 12,
     "metadata": {},
     "output_type": "execute_result"
    }
   ],
   "source": [
    "b"
   ]
  },
  {
   "cell_type": "code",
   "execution_count": 13,
   "metadata": {},
   "outputs": [
    {
     "data": {
      "text/plain": [
       "3.14"
      ]
     },
     "execution_count": 13,
     "metadata": {},
     "output_type": "execute_result"
    }
   ],
   "source": [
    "c"
   ]
  },
  {
   "cell_type": "code",
   "execution_count": 14,
   "metadata": {},
   "outputs": [
    {
     "data": {
      "text/plain": [
       "(3, 3.14)"
      ]
     },
     "execution_count": 14,
     "metadata": {},
     "output_type": "execute_result"
    }
   ],
   "source": [
    "abs(b), c"
   ]
  },
  {
   "cell_type": "code",
   "execution_count": 15,
   "metadata": {},
   "outputs": [],
   "source": [
    "tekst='Primer stringa'   #mogu i dvostruki navodnici"
   ]
  },
  {
   "cell_type": "code",
   "execution_count": 16,
   "metadata": {},
   "outputs": [
    {
     "data": {
      "text/plain": [
       "'Primer stringa'"
      ]
     },
     "execution_count": 16,
     "metadata": {},
     "output_type": "execute_result"
    }
   ],
   "source": [
    "tekst"
   ]
  },
  {
   "cell_type": "code",
   "execution_count": 17,
   "metadata": {},
   "outputs": [
    {
     "name": "stdout",
     "output_type": "stream",
     "text": [
      "25 -3 3.14 Primer stringa\n"
     ]
    }
   ],
   "source": [
    "print(a,b,c,tekst)   #ispis više promenljivih"
   ]
  },
  {
   "cell_type": "code",
   "execution_count": 18,
   "metadata": {},
   "outputs": [
    {
     "name": "stdout",
     "output_type": "stream",
     "text": [
      "a=25, b=-3, c=3.1400, tekst=Primer stringa\n"
     ]
    }
   ],
   "source": [
    "print('a=%d, b=%d, c=%1.4f, tekst=%s' %(a,b,c,tekst))"
   ]
  },
  {
   "cell_type": "markdown",
   "metadata": {},
   "source": [
    "### Liste\n",
    "\n",
    "U radu sa listama voditi računa o opsegu indeksa!\n",
    "Prvi element liste je indeksa 0."
   ]
  },
  {
   "cell_type": "code",
   "execution_count": 19,
   "metadata": {},
   "outputs": [],
   "source": [
    "lista=[1,2,0,9,-3]"
   ]
  },
  {
   "cell_type": "code",
   "execution_count": 20,
   "metadata": {},
   "outputs": [
    {
     "data": {
      "text/plain": [
       "1"
      ]
     },
     "execution_count": 20,
     "metadata": {},
     "output_type": "execute_result"
    }
   ],
   "source": [
    "lista[0]     #pristup pojedinačnom elementu liste"
   ]
  },
  {
   "cell_type": "code",
   "execution_count": 21,
   "metadata": {},
   "outputs": [
    {
     "data": {
      "text/plain": [
       "[0, 9]"
      ]
     },
     "execution_count": 21,
     "metadata": {},
     "output_type": "execute_result"
    }
   ],
   "source": [
    "lista[2:4]  #pristup većem broju elemenata liste\n",
    "#poslednji indeks u opsegu se ne koristi"
   ]
  },
  {
   "cell_type": "code",
   "execution_count": 22,
   "metadata": {},
   "outputs": [
    {
     "data": {
      "text/plain": [
       "[0, 9, -3]"
      ]
     },
     "execution_count": 22,
     "metadata": {},
     "output_type": "execute_result"
    }
   ],
   "source": [
    "lista[2:]   #elementi od indeksa 2 do kraja"
   ]
  },
  {
   "cell_type": "code",
   "execution_count": 23,
   "metadata": {},
   "outputs": [
    {
     "data": {
      "text/plain": [
       "-3"
      ]
     },
     "execution_count": 23,
     "metadata": {},
     "output_type": "execute_result"
    }
   ],
   "source": [
    "lista[-1]  #poslednji element liste"
   ]
  },
  {
   "cell_type": "code",
   "execution_count": 24,
   "metadata": {},
   "outputs": [
    {
     "data": {
      "text/plain": [
       "[1, 2, 0]"
      ]
     },
     "execution_count": 24,
     "metadata": {},
     "output_type": "execute_result"
    }
   ],
   "source": [
    "lista[:3]   #elementi od početka do indeksa 2"
   ]
  },
  {
   "cell_type": "code",
   "execution_count": 25,
   "metadata": {},
   "outputs": [
    {
     "data": {
      "text/plain": [
       "[1, 2, 0, 9, -3, 1, 2, 0, 9, -3]"
      ]
     },
     "execution_count": 25,
     "metadata": {},
     "output_type": "execute_result"
    }
   ],
   "source": [
    "2*lista   #konkatenacija"
   ]
  },
  {
   "cell_type": "code",
   "execution_count": 26,
   "metadata": {},
   "outputs": [
    {
     "data": {
      "text/plain": [
       "[1, 2, 0, 9, -3, 1, 2, 0, 9, -3]"
      ]
     },
     "execution_count": 26,
     "metadata": {},
     "output_type": "execute_result"
    }
   ],
   "source": [
    "lista*2"
   ]
  },
  {
   "cell_type": "code",
   "execution_count": 27,
   "metadata": {},
   "outputs": [],
   "source": [
    "l=[1]*10    #lista od 10 jedinica"
   ]
  },
  {
   "cell_type": "code",
   "execution_count": 28,
   "metadata": {},
   "outputs": [
    {
     "data": {
      "text/plain": [
       "[1, 2, 0, 9, -3, 1, 1, 1, 1, 1, 1, 1, 1, 1, 1]"
      ]
     },
     "execution_count": 28,
     "metadata": {},
     "output_type": "execute_result"
    }
   ],
   "source": [
    "lista+l     #konkatenacija"
   ]
  },
  {
   "cell_type": "code",
   "execution_count": 29,
   "metadata": {},
   "outputs": [],
   "source": [
    "lista[0:2]+=lista[2:5]   #ubacivanje elemenata"
   ]
  },
  {
   "cell_type": "code",
   "execution_count": 30,
   "metadata": {},
   "outputs": [
    {
     "data": {
      "text/plain": [
       "[1, 2, 0, 9, -3, 0, 9, -3]"
      ]
     },
     "execution_count": 30,
     "metadata": {},
     "output_type": "execute_result"
    }
   ],
   "source": [
    "lista"
   ]
  },
  {
   "cell_type": "code",
   "execution_count": 31,
   "metadata": {},
   "outputs": [],
   "source": [
    "lista[1]=100    #promena drugog elementa"
   ]
  },
  {
   "cell_type": "code",
   "execution_count": 32,
   "metadata": {},
   "outputs": [],
   "source": [
    "lista[2]+=3    #promena trećeg elementa"
   ]
  },
  {
   "cell_type": "code",
   "execution_count": 33,
   "metadata": {},
   "outputs": [
    {
     "data": {
      "text/plain": [
       "[1, 100, 3, 9, -3, 0, 9, -3]"
      ]
     },
     "execution_count": 33,
     "metadata": {},
     "output_type": "execute_result"
    }
   ],
   "source": [
    "lista"
   ]
  },
  {
   "cell_type": "markdown",
   "metadata": {},
   "source": [
    "Jedan od načina za kreiranje automatski generisanih listi celih brojeva je funkcija **range**. Njena najčešća upotreba vezuje se za **for** petlju. Poziv funkcije ima sledeću strukturu:\n",
    "```python\n",
    "range(start,stop,korak)\n",
    "```\n",
    "Start i korak su opcioni elementi ulaza. Ukoliko se ne navedu, podrazumevane vrednosti su $0$ i $1,$ redom. Obratiti pažnju na poslednji element liste generisan ovom funkcijom."
   ]
  },
  {
   "cell_type": "code",
   "execution_count": 34,
   "metadata": {},
   "outputs": [],
   "source": [
    "lista=range(9)"
   ]
  },
  {
   "cell_type": "code",
   "execution_count": 35,
   "metadata": {},
   "outputs": [
    {
     "name": "stdout",
     "output_type": "stream",
     "text": [
      "Prvi element liste je 0\n"
     ]
    }
   ],
   "source": [
    "print('Prvi element liste je %d' %lista[0])"
   ]
  },
  {
   "cell_type": "code",
   "execution_count": 36,
   "metadata": {},
   "outputs": [
    {
     "name": "stdout",
     "output_type": "stream",
     "text": [
      "Poslednji element liste je 8\n"
     ]
    }
   ],
   "source": [
    "print('Poslednji element liste je %d' %lista[-1])"
   ]
  },
  {
   "cell_type": "code",
   "execution_count": 37,
   "metadata": {},
   "outputs": [
    {
     "name": "stdout",
     "output_type": "stream",
     "text": [
      "Šesti element liste je 5\n"
     ]
    }
   ],
   "source": [
    "print('Šesti element liste je %d' %lista[5])"
   ]
  },
  {
   "cell_type": "code",
   "execution_count": 38,
   "metadata": {},
   "outputs": [
    {
     "name": "stdout",
     "output_type": "stream",
     "text": [
      "6\n",
      "3\n",
      "0\n",
      "-3\n"
     ]
    }
   ],
   "source": [
    "for n in range(6,-6,-3):\n",
    "    print(n)"
   ]
  },
  {
   "cell_type": "code",
   "execution_count": 39,
   "metadata": {},
   "outputs": [
    {
     "name": "stdout",
     "output_type": "stream",
     "text": [
      "2\n",
      "3\n",
      "4\n",
      "5\n",
      "6\n"
     ]
    }
   ],
   "source": [
    "for x in range(2,7):\n",
    "    print(x)"
   ]
  },
  {
   "cell_type": "code",
   "execution_count": 40,
   "metadata": {},
   "outputs": [
    {
     "name": "stdout",
     "output_type": "stream",
     "text": [
      "2\n",
      "4\n",
      "6\n"
     ]
    }
   ],
   "source": [
    "for x in range(2,7,2):\n",
    "    print(x)"
   ]
  },
  {
   "cell_type": "markdown",
   "metadata": {},
   "source": [
    "[For](https://www.learnpython.org/en/Loops) petlja u Pythonu iterira vrednosti indeksa petje preko elemenata neke liste. Sintaksna forma for petlje glasi\n",
    "```python\n",
    "for indeks in lista:\n",
    "    telo petlje\n",
    "```\n",
    "Kraj tela petlje označava prva naredba koja je bez uvučenog reda."
   ]
  },
  {
   "cell_type": "code",
   "execution_count": 41,
   "metadata": {},
   "outputs": [
    {
     "name": "stdout",
     "output_type": "stream",
     "text": [
      "Pita od  jabuka\n",
      "Pita od  šljiva\n",
      "Pita od  dunja\n",
      "Pita od  višanja\n"
     ]
    }
   ],
   "source": [
    "for voće in ['jabuka','šljiva','dunja','višanja']:\n",
    "    print('Pita od ', voće)"
   ]
  },
  {
   "cell_type": "code",
   "execution_count": 42,
   "metadata": {},
   "outputs": [
    {
     "name": "stdout",
     "output_type": "stream",
     "text": [
      "U  6:00 sati temperatura je iznosila 5 stepeni\n",
      "U  10:00 sati temperatura je iznosila 10 stepeni\n",
      "U  12:00 sati temperatura je iznosila 17 stepeni\n",
      "U  15:00 sati temperatura je iznosila 16 stepeni\n",
      "U  20:00 sati temperatura je iznosila 8 stepeni\n"
     ]
    }
   ],
   "source": [
    "vreme=['6:00','10:00','12:00','15:00','20:00']\n",
    "temperatura=[5,10,17,16,8]\n",
    "for i in range(len(vreme)):\n",
    "    print('U ',vreme[i],'sati temperatura je iznosila %d stepeni' %(temperatura[i]))"
   ]
  },
  {
   "cell_type": "code",
   "execution_count": 43,
   "metadata": {},
   "outputs": [
    {
     "name": "stdout",
     "output_type": "stream",
     "text": [
      "1.29 ms ± 18.9 µs per loop (mean ± std. dev. of 7 runs, 1000 loops each)\n"
     ]
    }
   ],
   "source": [
    "%%timeit\n",
    "s=0\n",
    "S=0\n",
    "maks=10001\n",
    "for i in range(1,maks):\n",
    "    S+=1.0/i\n",
    "    s+=1.0/(maks-i)\n",
    "S-s"
   ]
  },
  {
   "cell_type": "markdown",
   "metadata": {},
   "source": [
    "Poslednji kod se može napisati i drugačijom primenom for petlje."
   ]
  },
  {
   "cell_type": "code",
   "execution_count": 44,
   "metadata": {},
   "outputs": [
    {
     "name": "stdout",
     "output_type": "stream",
     "text": [
      "1.34 ms ± 57.8 µs per loop (mean ± std. dev. of 7 runs, 1000 loops each)\n"
     ]
    }
   ],
   "source": [
    "%%timeit\n",
    "maks=10001\n",
    "S=sum(1.0/i for i in range(1,maks))\n",
    "s=sum(1.0/i for i in range(maks-1,0,-1))\n",
    "S-s"
   ]
  },
  {
   "cell_type": "markdown",
   "metadata": {},
   "source": [
    "Slićna konstrukcija koristi se za automatsko kreiranje listi."
   ]
  },
  {
   "cell_type": "code",
   "execution_count": 45,
   "metadata": {},
   "outputs": [
    {
     "data": {
      "text/plain": [
       "[9, 4, 1, 0, 1, 4, 9]"
      ]
     },
     "execution_count": 45,
     "metadata": {},
     "output_type": "execute_result"
    }
   ],
   "source": [
    "kvadrati=[i**2 for i in range(-3,4)]\n",
    "kvadrati"
   ]
  },
  {
   "cell_type": "markdown",
   "metadata": {},
   "source": [
    "### Formatiranje ispisa teksta"
   ]
  },
  {
   "cell_type": "code",
   "execution_count": 46,
   "metadata": {},
   "outputs": [
    {
     "name": "stdout",
     "output_type": "stream",
     "text": [
      "Primer jednostrukog ' i dvostrukog \" navođenja\n"
     ]
    }
   ],
   "source": [
    "print('Primer jednostrukog \\' i dvostrukog \\\" navođenja')     #ispis navodnika"
   ]
  },
  {
   "cell_type": "code",
   "execution_count": 47,
   "metadata": {},
   "outputs": [
    {
     "name": "stdout",
     "output_type": "stream",
     "text": [
      "Ovo je lista\n",
      " - prvi element\n",
      " - drugi element\n"
     ]
    }
   ],
   "source": [
    "print('Ovo je lista\\n - prvi element\\n - drugi element')     #prelazak u novi red"
   ]
  },
  {
   "cell_type": "code",
   "execution_count": 48,
   "metadata": {},
   "outputs": [
    {
     "name": "stdout",
     "output_type": "stream",
     "text": [
      "C:\\Windows\\Path\n",
      "C:\\Windows\\Path\n"
     ]
    }
   ],
   "source": [
    "print('C:\\\\Windows\\\\Path')      #simbol backslash\n",
    "print(r'C:\\Windows\\Path')       #r označava da se specijalni simboli doslovno prenose"
   ]
  },
  {
   "cell_type": "markdown",
   "metadata": {},
   "source": [
    "Kodne ćelije se mogu upotrebiti za izvršenje i složenijih programskih zadataka. Učenje upotrebe IPython funkcionalnosti kretaće se blago zakošenom krivom znanja. Upoznavaćemo specijalizovane alate u skladu sa obrađenim teorijskim temama."
   ]
  },
  {
   "cell_type": "markdown",
   "metadata": {},
   "source": [
    "Pomeranjem klizača u polju za vidžet dobija se interaktivni grafik. Ovom funkcionalnošću bavićemo se na narednim časovima. Veoma je korisna u numeričkim i grafičkim eksperimentima."
   ]
  },
  {
   "cell_type": "code",
   "execution_count": 49,
   "metadata": {},
   "outputs": [
    {
     "data": {
      "application/vnd.jupyter.widget-view+json": {
       "model_id": "9df4d641d78a46d6bd454f43e2b60d3c",
       "version_major": 2,
       "version_minor": 0
      },
      "text/plain": [
       "interactive(children=(FloatSlider(value=-0.5, description='k', max=2.0, min=-3.0), FloatSlider(value=0.0, desc…"
      ]
     },
     "metadata": {},
     "output_type": "display_data"
    }
   ],
   "source": [
    "%matplotlib inline\n",
    "from ipywidgets import interactive\n",
    "import matplotlib.pyplot as slika\n",
    "import numpy as np\n",
    "\n",
    "def f(k, n):\n",
    "    print(\"Primer kodne ćelije\")\n",
    "    slika.figure(2)\n",
    "    x = np.linspace(-10, 10, num=1000)\n",
    "    slika.plot(x, k * x + n)\n",
    "    slika.ylim(-5, 5)\n",
    "    slika.show()\n",
    "\n",
    "interactive_plot = interactive(f, k=(-3.0, 2.0), n=(-3, 3, 0.5))\n",
    "output = interactive_plot.children[-1]\n",
    "output.layout.height = '350px'\n",
    "interactive_plot"
   ]
  }
 ],
 "metadata": {
  "kernelspec": {
   "display_name": "Python 3",
   "language": "python",
   "name": "python3"
  },
  "language_info": {
   "codemirror_mode": {
    "name": "ipython",
    "version": 3
   },
   "file_extension": ".py",
   "mimetype": "text/x-python",
   "name": "python",
   "nbconvert_exporter": "python",
   "pygments_lexer": "ipython3",
   "version": "3.7.6"
  },
  "widgets": {
   "application/vnd.jupyter.widget-state+json": {
    "state": {
     "1a9188d0b3e943b1a61167702c3c2881": {
      "model_module": "@jupyter-widgets/controls",
      "model_module_version": "1.5.0",
      "model_name": "SliderStyleModel",
      "state": {
       "description_width": ""
      }
     },
     "486e1a7d33624d4280c391feebb1e5c9": {
      "model_module": "@jupyter-widgets/base",
      "model_module_version": "1.2.0",
      "model_name": "LayoutModel",
      "state": {
       "height": "350px"
      }
     },
     "5b494e730cff4be49efcf2fe37aef386": {
      "model_module": "@jupyter-widgets/controls",
      "model_module_version": "1.5.0",
      "model_name": "SliderStyleModel",
      "state": {
       "description_width": ""
      }
     },
     "8d9dbe5309384950a79360cd1ec731e3": {
      "model_module": "@jupyter-widgets/controls",
      "model_module_version": "1.5.0",
      "model_name": "VBoxModel",
      "state": {
       "_dom_classes": [
        "widget-interact"
       ],
       "children": [
        "IPY_MODEL_d8f2990833d047f2a187f16782f95bb0",
        "IPY_MODEL_99ea2c535a9145c0b6801dbebd64bef5",
        "IPY_MODEL_cdebbe0e9f1a4010bc167fa185e2e97f"
       ],
       "layout": "IPY_MODEL_cea26e5c1b6941218591bd76dfdc6d21"
      }
     },
     "94c2230e7aa54e5c8c55a922f485ce08": {
      "model_module": "@jupyter-widgets/base",
      "model_module_version": "1.2.0",
      "model_name": "LayoutModel",
      "state": {}
     },
     "99ea2c535a9145c0b6801dbebd64bef5": {
      "model_module": "@jupyter-widgets/controls",
      "model_module_version": "1.5.0",
      "model_name": "FloatSliderModel",
      "state": {
       "description": "n",
       "layout": "IPY_MODEL_fbb2b2e4e111455292f75fcda2c59618",
       "max": 3,
       "min": -3,
       "step": 0.5,
       "style": "IPY_MODEL_1a9188d0b3e943b1a61167702c3c2881",
       "value": 1
      }
     },
     "cdebbe0e9f1a4010bc167fa185e2e97f": {
      "model_module": "@jupyter-widgets/output",
      "model_module_version": "1.0.0",
      "model_name": "OutputModel",
      "state": {
       "layout": "IPY_MODEL_486e1a7d33624d4280c391feebb1e5c9",
       "outputs": [
        {
         "name": "stdout",
         "output_type": "stream",
         "text": "Primer kodne ćelije\n"
        },
        {
         "data": {
          "image/png": "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\n",
          "text/plain": "<Figure size 432x288 with 1 Axes>"
         },
         "metadata": {
          "needs_background": "light"
         },
         "output_type": "display_data"
        }
       ]
      }
     },
     "cea26e5c1b6941218591bd76dfdc6d21": {
      "model_module": "@jupyter-widgets/base",
      "model_module_version": "1.2.0",
      "model_name": "LayoutModel",
      "state": {}
     },
     "d8f2990833d047f2a187f16782f95bb0": {
      "model_module": "@jupyter-widgets/controls",
      "model_module_version": "1.5.0",
      "model_name": "FloatSliderModel",
      "state": {
       "description": "k",
       "layout": "IPY_MODEL_94c2230e7aa54e5c8c55a922f485ce08",
       "max": 2,
       "min": -2,
       "step": 0.1,
       "style": "IPY_MODEL_5b494e730cff4be49efcf2fe37aef386",
       "value": -0.6
      }
     },
     "fbb2b2e4e111455292f75fcda2c59618": {
      "model_module": "@jupyter-widgets/base",
      "model_module_version": "1.2.0",
      "model_name": "LayoutModel",
      "state": {}
     }
    },
    "version_major": 2,
    "version_minor": 0
   }
  }
 },
 "nbformat": 4,
 "nbformat_minor": 4
}
