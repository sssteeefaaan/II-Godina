{
 "cells": [
  {
   "cell_type": "markdown",
   "metadata": {},
   "source": [
    "# Moduli u Pythonu     \n",
    "\n",
    "[Standardna Python biblioteka](https://docs.python.org/3/library/index.html) nudi veliku funkcionalnost potrebnu za uobičajene programske zadatke. Ogromna dodatna funkcionalnost uskladištena je u posebnim Python bibliotekama kroz module. Modul u Pythonu označava dokument koji sadrži unpred definisane funkcije koje se mogu koristiti u drugim programima. Da bismo pristupili sadržaju modula i aktivirali ga za upotrebu moramo da ga eksplicino uvezemo. Za pristup bibliotekama i modulima služe [import](https://chrisyeh96.github.io/2017/08/08/definitive-guide-python-imports.html#what-is-an-import) iskazi. Njima se mogu uvesti pojedinačne funkcije ili čitavi moduli.\n",
    "\n",
    "Postoji više načina da se pristupi sadržaju Python modula. Modul **math** sadrži osnovne matematičke funkcije i konstante. Na primeru njega prikazaćemo različite import iskaze.\n",
    "\n",
    "### Učitavanje sadržaja čitavog modula\n",
    "\n",
    "Najčešće u upotrebi je učitavanje sadržaja modula u formatu:\n",
    "```python\n",
    "import ime_modula\n",
    "```\n",
    "Tada je svaki poziv sadržaja učitanog modula oblika:\n",
    "```python\n",
    "ime_modula.ime_funkcije\n",
    "ime_modula.ime_konstante\n",
    "```"
   ]
  },
  {
   "cell_type": "code",
   "execution_count": 1,
   "metadata": {},
   "outputs": [],
   "source": [
    "import math"
   ]
  },
  {
   "cell_type": "code",
   "execution_count": 2,
   "metadata": {},
   "outputs": [
    {
     "data": {
      "text/plain": [
       "0.8912073600614354"
      ]
     },
     "execution_count": 2,
     "metadata": {},
     "output_type": "execute_result"
    }
   ],
   "source": [
    "math.sin(1.1)"
   ]
  },
  {
   "cell_type": "code",
   "execution_count": 3,
   "metadata": {},
   "outputs": [
    {
     "data": {
      "text/plain": [
       "3.141592653589793"
      ]
     },
     "execution_count": 3,
     "metadata": {},
     "output_type": "execute_result"
    }
   ],
   "source": [
    "math.pi"
   ]
  },
  {
   "cell_type": "markdown",
   "metadata": {},
   "source": [
    "Preporučujem navedeni direktan način učitavanja modula dok se ne naviknete na programiranje u Pythonu i ne steknete dovoljno iskustva u radu sa modulima. Direktno učitavanje je naročito korisno kada se koriste funkcije dva ili više modula istovremeno, pa može doći do koalizije zbog istih imena različito implementiranih funkcija. \n",
    "\n",
    "Nedostatak ovakvog načina uvoza je svakako dužina ispisa prilikom poziva funkcija. Postoji mogućnost definisanja skraćenog imena koje će se u nastavku koda koristiti umesto punog imena modula. To se postiže sledećom konstrukcijom.\n",
    "```python\n",
    "import ime_modula as novo_ime\n",
    "```"
   ]
  },
  {
   "cell_type": "code",
   "execution_count": 4,
   "metadata": {},
   "outputs": [],
   "source": [
    "import math as m"
   ]
  },
  {
   "cell_type": "code",
   "execution_count": 5,
   "metadata": {},
   "outputs": [
    {
     "data": {
      "text/plain": [
       "0.0"
      ]
     },
     "execution_count": 5,
     "metadata": {},
     "output_type": "execute_result"
    }
   ],
   "source": [
    "m.sin(0)"
   ]
  },
  {
   "cell_type": "code",
   "execution_count": 6,
   "metadata": {},
   "outputs": [
    {
     "data": {
      "text/plain": [
       "3.141592653589793"
      ]
     },
     "execution_count": 6,
     "metadata": {},
     "output_type": "execute_result"
    }
   ],
   "source": [
    "m.pi"
   ]
  },
  {
   "cell_type": "code",
   "execution_count": 7,
   "metadata": {},
   "outputs": [
    {
     "data": {
      "text/plain": [
       "0.125"
      ]
     },
     "execution_count": 7,
     "metadata": {},
     "output_type": "execute_result"
    }
   ],
   "source": [
    "m.pow(2,-3)  #pow(x,y)=x^y"
   ]
  },
  {
   "cell_type": "code",
   "execution_count": 8,
   "metadata": {},
   "outputs": [],
   "source": [
    "lista=[1,2,3]"
   ]
  },
  {
   "cell_type": "code",
   "execution_count": 9,
   "metadata": {},
   "outputs": [
    {
     "data": {
      "text/plain": [
       "6"
      ]
     },
     "execution_count": 9,
     "metadata": {},
     "output_type": "execute_result"
    }
   ],
   "source": [
    "sum(lista)"
   ]
  },
  {
   "cell_type": "markdown",
   "metadata": {},
   "source": [
    "Još jedan metod uvoza celokupnog sadržaja modula je:\n",
    "```python\n",
    "from ime_modula import *\n",
    "```"
   ]
  },
  {
   "cell_type": "code",
   "execution_count": 10,
   "metadata": {},
   "outputs": [],
   "source": [
    "from math import *"
   ]
  },
  {
   "cell_type": "code",
   "execution_count": 11,
   "metadata": {},
   "outputs": [
    {
     "data": {
      "text/plain": [
       "1.2246467991473532e-16"
      ]
     },
     "execution_count": 11,
     "metadata": {},
     "output_type": "execute_result"
    }
   ],
   "source": [
    "sin(pi)"
   ]
  },
  {
   "cell_type": "code",
   "execution_count": 12,
   "metadata": {},
   "outputs": [
    {
     "data": {
      "text/plain": [
       "3.141592653589793"
      ]
     },
     "execution_count": 12,
     "metadata": {},
     "output_type": "execute_result"
    }
   ],
   "source": [
    "pi"
   ]
  },
  {
   "cell_type": "markdown",
   "metadata": {},
   "source": [
    "Primećujemo da se u ovom slučaju uvoza izostavlja ime modula pre poziva funkcija ili konstanti. \n",
    "\n",
    "Predstavljeni format može se koristiti i kod uvoza pojedinačnih elemenata modula.\n",
    "\n",
    "\n",
    "```python\n",
    "from ime_modula import ime1, ime2,...\n",
    "```\n",
    "\n",
    "```python\n",
    "from ime_modula import ime1 as novo_ime\n",
    "```"
   ]
  },
  {
   "cell_type": "code",
   "execution_count": 13,
   "metadata": {},
   "outputs": [],
   "source": [
    "from math import atan, exp, pi, e"
   ]
  },
  {
   "cell_type": "code",
   "execution_count": 14,
   "metadata": {},
   "outputs": [
    {
     "data": {
      "text/plain": [
       "2.718281828459045"
      ]
     },
     "execution_count": 14,
     "metadata": {},
     "output_type": "execute_result"
    }
   ],
   "source": [
    "e"
   ]
  },
  {
   "cell_type": "code",
   "execution_count": 15,
   "metadata": {},
   "outputs": [],
   "source": [
    "r=atan(1)"
   ]
  },
  {
   "cell_type": "code",
   "execution_count": 16,
   "metadata": {},
   "outputs": [
    {
     "data": {
      "text/plain": [
       "45.0"
      ]
     },
     "execution_count": 16,
     "metadata": {},
     "output_type": "execute_result"
    }
   ],
   "source": [
    "r*180/pi"
   ]
  },
  {
   "cell_type": "code",
   "execution_count": 17,
   "metadata": {},
   "outputs": [
    {
     "data": {
      "text/plain": [
       "7.38905609893065"
      ]
     },
     "execution_count": 17,
     "metadata": {},
     "output_type": "execute_result"
    }
   ],
   "source": [
    "exp(2)"
   ]
  },
  {
   "cell_type": "code",
   "execution_count": 18,
   "metadata": {},
   "outputs": [],
   "source": [
    "from math import log as logaritam"
   ]
  },
  {
   "cell_type": "code",
   "execution_count": 19,
   "metadata": {},
   "outputs": [
    {
     "data": {
      "text/plain": [
       "0.0"
      ]
     },
     "execution_count": 19,
     "metadata": {},
     "output_type": "execute_result"
    }
   ],
   "source": [
    "logaritam(1)"
   ]
  },
  {
   "cell_type": "code",
   "execution_count": 20,
   "metadata": {},
   "outputs": [],
   "source": [
    "from math import sqrt as koren"
   ]
  },
  {
   "cell_type": "code",
   "execution_count": 21,
   "metadata": {},
   "outputs": [
    {
     "data": {
      "text/plain": [
       "2.0"
      ]
     },
     "execution_count": 21,
     "metadata": {},
     "output_type": "execute_result"
    }
   ],
   "source": [
    "koren(4)"
   ]
  },
  {
   "attachments": {
    "PythonLogo.png": {
     "image/png": "[encoded data removed]"
    }
   },
   "cell_type": "markdown",
   "metadata": {},
   "source": [
    "Biblioteke i moduli koje ćemo koristiti stalno tokom kursa su:\n",
    "1. [SciPy](https://www.scipy.org/docs.html) - biblioteka modula za matematičku i inženjersku primenu. Od posebnog značaja su njeni sledeći delovi:  \n",
    "    1. [Matplotlib](https://matplotlib.org/) - biblioteka modula za grafički prikaz.\n",
    "    2. [NumPy](https://numpy.org/doc/1.18/user/basics.html) - osnovni modul za numerička izračunavanja u Python-u. \n",
    "\n",
    "\n",
    "Moduli koje ćemo povremeno koristiti su:\n",
    "3. [SymPy](https://docs.sympy.org/latest/tutorial/index.html) - modul za simbolička izračunavanja.\n",
    "5. [timeit](https://docs.python.org/2/library/timeit.html) - modul za merenje vremena izvršenja dela programskog koda.\n",
    "1. [math](https://docs.python.org/3/library/math.html) — modul sa matematičkim funkcijama.\n",
    "2. [random](https://docs.python.org/3/library/random.html) - generatori pseudo nasumičnih brojeva različitih distribucija.\n",
    "\n",
    "Primeri nekih dodatnih matematičkih modula mogu se naći na sledećem [linku](https://docs.python.org/3/library/numeric.html).\n",
    "![PythonLogo.png](attachment:PythonLogo.png)\n"
   ]
  },
  {
   "cell_type": "markdown",
   "metadata": {},
   "source": [
    "IPython ima i veoma jednostavan postupak definisanja novih funkcija. Za to se koristi rezervisana reč **def**. Struktura opisa je:\n",
    "```python\n",
    "def ime_funkcije(ulazni_argumenti):\n",
    "    telo_funkcije\n",
    "    print(izlaz) ili\n",
    "    return(izlaz)\n",
    "```\n",
    "Naredba **print** ima istu funkciju i opcije formatiranja kao u programskom jeziku C++."
   ]
  },
  {
   "cell_type": "code",
   "execution_count": 22,
   "metadata": {},
   "outputs": [],
   "source": [
    "def kvadriranje(x):\n",
    "    print(\"Kvadrat je broj %d\" % (x*x))"
   ]
  },
  {
   "cell_type": "code",
   "execution_count": 23,
   "metadata": {},
   "outputs": [
    {
     "name": "stdout",
     "output_type": "stream",
     "text": [
      "Kvadrat je broj 4\n"
     ]
    }
   ],
   "source": [
    "kvadriranje(2)"
   ]
  },
  {
   "cell_type": "markdown",
   "metadata": {},
   "source": [
    "Kako se budemo upoznavali sa Python programskim jezikom bićemo u mogućnosti da kreiramo složenije funkcije."
   ]
  }
 ],
 "metadata": {
  "kernelspec": {
   "display_name": "Python 3",
   "language": "python",
   "name": "python3"
  },
  "language_info": {
   "codemirror_mode": {
    "name": "ipython",
    "version": 3
   },
   "file_extension": ".py",
   "mimetype": "text/x-python",
   "name": "python",
   "nbconvert_exporter": "python",
   "pygments_lexer": "ipython3",
   "version": "3.7.6"
  }
 },
 "nbformat": 4,
 "nbformat_minor": 4
}
