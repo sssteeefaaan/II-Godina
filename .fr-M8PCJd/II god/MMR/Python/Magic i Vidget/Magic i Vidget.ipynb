{
 "cells": [
  {
   "cell_type": "markdown",
   "metadata": {},
   "source": [
    "# Magic i Vidget u IPython-u\n",
    "\n",
    "Osim biblioteka komandi koje smo videli u prethodnoj radnoj svesci Moduli, IPython poseduje i tzv. magične komande. Lista svih takvih komandi dobija se unosom magične komande\n",
    "```python\n",
    "%lsmagic \n",
    "```"
   ]
  },
  {
   "cell_type": "code",
   "execution_count": 1,
   "metadata": {},
   "outputs": [
    {
     "data": {
      "application/json": {
       "cell": {
        "!": "OSMagics",
        "HTML": "Other",
        "SVG": "Other",
        "bash": "Other",
        "capture": "ExecutionMagics",
        "cmd": "Other",
        "debug": "ExecutionMagics",
        "file": "Other",
        "html": "DisplayMagics",
        "javascript": "DisplayMagics",
        "js": "DisplayMagics",
        "latex": "DisplayMagics",
        "markdown": "DisplayMagics",
        "perl": "Other",
        "prun": "ExecutionMagics",
        "pypy": "Other",
        "python": "Other",
        "python2": "Other",
        "python3": "Other",
        "ruby": "Other",
        "script": "ScriptMagics",
        "sh": "Other",
        "svg": "DisplayMagics",
        "sx": "OSMagics",
        "system": "OSMagics",
        "time": "ExecutionMagics",
        "timeit": "ExecutionMagics",
        "writefile": "OSMagics"
       },
       "line": {
        "alias": "OSMagics",
        "alias_magic": "BasicMagics",
        "autoawait": "AsyncMagics",
        "autocall": "AutoMagics",
        "automagic": "AutoMagics",
        "autosave": "KernelMagics",
        "bookmark": "OSMagics",
        "cd": "OSMagics",
        "clear": "KernelMagics",
        "cls": "KernelMagics",
        "colors": "BasicMagics",
        "conda": "PackagingMagics",
        "config": "ConfigMagics",
        "connect_info": "KernelMagics",
        "copy": "Other",
        "ddir": "Other",
        "debug": "ExecutionMagics",
        "dhist": "OSMagics",
        "dirs": "OSMagics",
        "doctest_mode": "BasicMagics",
        "echo": "Other",
        "ed": "Other",
        "edit": "KernelMagics",
        "env": "OSMagics",
        "gui": "BasicMagics",
        "hist": "Other",
        "history": "HistoryMagics",
        "killbgscripts": "ScriptMagics",
        "ldir": "Other",
        "less": "KernelMagics",
        "load": "CodeMagics",
        "load_ext": "ExtensionMagics",
        "loadpy": "CodeMagics",
        "logoff": "LoggingMagics",
        "logon": "LoggingMagics",
        "logstart": "LoggingMagics",
        "logstate": "LoggingMagics",
        "logstop": "LoggingMagics",
        "ls": "Other",
        "lsmagic": "BasicMagics",
        "macro": "ExecutionMagics",
        "magic": "BasicMagics",
        "matplotlib": "PylabMagics",
        "mkdir": "Other",
        "more": "KernelMagics",
        "notebook": "BasicMagics",
        "page": "BasicMagics",
        "pastebin": "CodeMagics",
        "pdb": "ExecutionMagics",
        "pdef": "NamespaceMagics",
        "pdoc": "NamespaceMagics",
        "pfile": "NamespaceMagics",
        "pinfo": "NamespaceMagics",
        "pinfo2": "NamespaceMagics",
        "pip": "PackagingMagics",
        "popd": "OSMagics",
        "pprint": "BasicMagics",
        "precision": "BasicMagics",
        "prun": "ExecutionMagics",
        "psearch": "NamespaceMagics",
        "psource": "NamespaceMagics",
        "pushd": "OSMagics",
        "pwd": "OSMagics",
        "pycat": "OSMagics",
        "pylab": "PylabMagics",
        "qtconsole": "KernelMagics",
        "quickref": "BasicMagics",
        "recall": "HistoryMagics",
        "rehashx": "OSMagics",
        "reload_ext": "ExtensionMagics",
        "ren": "Other",
        "rep": "Other",
        "rerun": "HistoryMagics",
        "reset": "NamespaceMagics",
        "reset_selective": "NamespaceMagics",
        "rmdir": "Other",
        "run": "ExecutionMagics",
        "save": "CodeMagics",
        "sc": "OSMagics",
        "set_env": "OSMagics",
        "store": "StoreMagics",
        "sx": "OSMagics",
        "system": "OSMagics",
        "tb": "ExecutionMagics",
        "time": "ExecutionMagics",
        "timeit": "ExecutionMagics",
        "unalias": "OSMagics",
        "unload_ext": "ExtensionMagics",
        "who": "NamespaceMagics",
        "who_ls": "NamespaceMagics",
        "whos": "NamespaceMagics",
        "xdel": "NamespaceMagics",
        "xmode": "BasicMagics"
       }
      },
      "text/plain": [
       "Available line magics:\n",
       "%alias  %alias_magic  %autoawait  %autocall  %automagic  %autosave  %bookmark  %cd  %clear  %cls  %colors  %conda  %config  %connect_info  %copy  %ddir  %debug  %dhist  %dirs  %doctest_mode  %echo  %ed  %edit  %env  %gui  %hist  %history  %killbgscripts  %ldir  %less  %load  %load_ext  %loadpy  %logoff  %logon  %logstart  %logstate  %logstop  %ls  %lsmagic  %macro  %magic  %matplotlib  %mkdir  %more  %notebook  %page  %pastebin  %pdb  %pdef  %pdoc  %pfile  %pinfo  %pinfo2  %pip  %popd  %pprint  %precision  %prun  %psearch  %psource  %pushd  %pwd  %pycat  %pylab  %qtconsole  %quickref  %recall  %rehashx  %reload_ext  %ren  %rep  %rerun  %reset  %reset_selective  %rmdir  %run  %save  %sc  %set_env  %store  %sx  %system  %tb  %time  %timeit  %unalias  %unload_ext  %who  %who_ls  %whos  %xdel  %xmode\n",
       "\n",
       "Available cell magics:\n",
       "%%!  %%HTML  %%SVG  %%bash  %%capture  %%cmd  %%debug  %%file  %%html  %%javascript  %%js  %%latex  %%markdown  %%perl  %%prun  %%pypy  %%python  %%python2  %%python3  %%ruby  %%script  %%sh  %%svg  %%sx  %%system  %%time  %%timeit  %%writefile\n",
       "\n",
       "Automagic is ON, % prefix IS NOT needed for line magics."
      ]
     },
     "execution_count": 1,
     "metadata": {},
     "output_type": "execute_result"
    }
   ],
   "source": [
    "%lsmagic"
   ]
  },
  {
   "cell_type": "markdown",
   "metadata": {},
   "source": [
    "Objašnjenje pojedinačne komande dobija se dodavanjem znaka pitanja (?) posle njenog poziva. Izlaz se kreira u posebnom prozoru."
   ]
  },
  {
   "cell_type": "code",
   "execution_count": 2,
   "metadata": {},
   "outputs": [],
   "source": [
    "%timeit?"
   ]
  },
  {
   "cell_type": "code",
   "execution_count": 3,
   "metadata": {},
   "outputs": [],
   "source": [
    "%%timeit?"
   ]
  },
  {
   "cell_type": "code",
   "execution_count": 4,
   "metadata": {},
   "outputs": [],
   "source": [
    "%matplotlib?"
   ]
  },
  {
   "cell_type": "code",
   "execution_count": 5,
   "metadata": {},
   "outputs": [],
   "source": [
    "%%latex?"
   ]
  },
  {
   "cell_type": "code",
   "execution_count": 6,
   "metadata": {},
   "outputs": [],
   "source": [
    "%clear?"
   ]
  },
  {
   "cell_type": "code",
   "execution_count": 7,
   "metadata": {},
   "outputs": [],
   "source": [
    "%cls?"
   ]
  },
  {
   "cell_type": "code",
   "execution_count": 8,
   "metadata": {},
   "outputs": [],
   "source": [
    "%who?"
   ]
  },
  {
   "cell_type": "code",
   "execution_count": 9,
   "metadata": {},
   "outputs": [],
   "source": [
    "%whos?"
   ]
  },
  {
   "attachments": {
    "tabcomp.png": {
     "image/png": "[encoded data removed]"
    }
   },
   "cell_type": "markdown",
   "metadata": {},
   "source": [
    "Pomoć u sintaksi dobija se tasterom Tab. Kada otpočnete kucanje nečega i pritisnete **Tab** na tastaturi, Ipython daje listu predloga na osnovu otkucanog. Ovakva pomoć odnosi se na Python funkcije, promenljive, magične komande, fajlove i drugo.\n",
    "![tabcomp.png](attachment:tabcomp.png)"
   ]
  },
  {
   "cell_type": "markdown",
   "metadata": {},
   "source": [
    "IPython poseduje opciju dodavanja interaktivnih grafičkih elemenata -[vidžeta](https://ipywidgets.readthedocs.io/en/latest/examples/Widget%20Basics.html). U njih spadaju dugmići, klizači, padajući meniji, interaktivni grafici, filmovi itd. U ovom trenutku vidžeti još uvek spadaju u eksperimentalnu funkcionalnost, ali ćemo ih upotrebljavati u okviru kursa. Upoznaćemo numerički klizač kroz primere.\n"
   ]
  },
  {
   "cell_type": "markdown",
   "metadata": {},
   "source": [
    "**Primer 1.** Upotrebićemo definisanu funkciju **kvadriranje** iz radne sveske Moduli i učinićemo je interaktivnom. Funkcija [interact](https://ipywidgets.readthedocs.io/en/latest/examples/Using%20Interact.html) koristi se za definisane funkcije narebom **def**, kako bi se lakše pratilo njeno ponašanje u zavisnosti od promene jednog ili više argumenata. "
   ]
  },
  {
   "cell_type": "code",
   "execution_count": 10,
   "metadata": {},
   "outputs": [
    {
     "data": {
      "application/vnd.jupyter.widget-view+json": {
       "model_id": "cb6f0f34c8e04213a37d6e61e8877f53",
       "version_major": 2,
       "version_minor": 0
      },
      "text/plain": [
       "interactive(children=(IntSlider(value=2, description='x', max=5), Output()), _dom_classes=('widget-interact',)…"
      ]
     },
     "metadata": {},
     "output_type": "display_data"
    }
   ],
   "source": [
    "from ipywidgets import interact  #učitavanje widget funkcije za interaktivnost\n",
    "@interact(x=(0,5))       #postavljamo vidžet za kontrolu ulaznih vrednosti funkcije\n",
    "# x se kreće u opsegu od 0 do 5 celobrojnih vrednosti\n",
    "def kvadriranje(x):\n",
    "    print(\"Kvadrat broja %d je broj %d\" % (x,x*x))"
   ]
  },
  {
   "cell_type": "markdown",
   "metadata": {},
   "source": [
    "**Primer 2.** Definisaćemo funkciju koja vraća vrednost $e^x$ interaktivno sa promenom vrednosti promenljive $x.$ Upotrebićemo [LaTex](https://link.springer.com/content/pdf/bbm%3A978-1-4842-3913-1%2F1.pdf) formatiranje izlaza."
   ]
  },
  {
   "cell_type": "code",
   "execution_count": 11,
   "metadata": {},
   "outputs": [
    {
     "data": {
      "application/vnd.jupyter.widget-view+json": {
       "model_id": "23feb4cf390147b18f700638004c9dd0",
       "version_major": 2,
       "version_minor": 0
      },
      "text/plain": [
       "interactive(children=(FloatSlider(value=1.0, description='x', max=3.0), Output()), _dom_classes=('widget-inter…"
      ]
     },
     "metadata": {},
     "output_type": "display_data"
    }
   ],
   "source": [
    "from ipywidgets import interact     #učitavanje widget funkcije za interaktivnost\n",
    "from math import exp                #učitavanje math eksponencijalne funkcije\n",
    "from IPython.display import Latex, Math   #učitavanje opcije za LaTex prikaz teksta\n",
    "@interact(x=(0,3,0.1),value=1)      # x se kreće u opsegu od 0 do 3 sa korakom 0.1. Početna vrednost je 1.\n",
    "def eksponent(x):\n",
    "    izlaz=exp(x)\n",
    "    display(Latex('$e^x= %3.3f$' %izlaz))\n",
    "    display(Math('e^x= %3.3f' %izlaz))"
   ]
  },
  {
   "cell_type": "markdown",
   "metadata": {},
   "source": [
    "**Primer 3.** Uporedićemo rezultat prilikom izračunavanja vrednosti izraza $S=\\displaystyle\\sum_{i=1}^{max}\\frac1i$ na dva načina. Simbolom $s=\\displaystyle\\sum_{i=1}^{max}\\frac1{max+1-i}$ označićemo isti izraz sa obrnutim redosledom sabiranja. Pratićemo uticaj aritmetike u konačnoj preciznosti na razliku između vrednosti $S$ i $s$ u zavisnosti od broja sabiraka $max.$"
   ]
  },
  {
   "cell_type": "code",
   "execution_count": 12,
   "metadata": {},
   "outputs": [
    {
     "data": {
      "application/vnd.jupyter.widget-view+json": {
       "model_id": "85d547ba99044396a52fe258ffefe98a",
       "version_major": 2,
       "version_minor": 0
      },
      "text/plain": [
       "interactive(children=(IntSlider(value=500000, description='maks', max=1000001, min=100, step=100), Output()), …"
      ]
     },
     "metadata": {},
     "output_type": "display_data"
    }
   ],
   "source": [
    "from ipywidgets import interact\n",
    "\n",
    "@interact(maks=(100,1000001,100))\n",
    "def greška(maks):\n",
    "    S=sum(1.0/i for i in range(1,maks))\n",
    "    s=sum(1.0/i for i in range(maks-1,0,-1))\n",
    "    print(S-s)"
   ]
  },
  {
   "cell_type": "markdown",
   "metadata": {},
   "source": [
    "**Primer 4.** Uporedićemo Python vrednost funkcije $\\sin(x)$ sa aproksimacijom koja se dobija Maklorenovim razvojem stepena $n$ u zavisnosti od veličine stepena i bliskosti tačke $x$ nuli."
   ]
  },
  {
   "cell_type": "code",
   "execution_count": 15,
   "metadata": {},
   "outputs": [
    {
     "data": {
      "application/vnd.jupyter.widget-view+json": {
       "model_id": "b009545037ce43cfbf3a7204a0204fc3",
       "version_major": 2,
       "version_minor": 0
      },
      "text/plain": [
       "interactive(children=(FloatSlider(value=0.0, description='x', max=0.5, min=-0.5), IntSlider(value=7, descripti…"
      ]
     },
     "metadata": {},
     "output_type": "display_data"
    }
   ],
   "source": [
    "from ipywidgets import interact\n",
    "from math import sin, factorial\n",
    "@interact(x=(-0.5,0.5,0.1),n=(1,16,2))\n",
    "def SinMakl(x,n):\n",
    "    S=sum(((-1)**(i//2))*(x**i)/factorial(i) for i in range(1,n,2))\n",
    "    print('Greška aproksimacije iznosi %3.3e' %(sin(x)-S))"
   ]
  }
 ],
 "metadata": {
  "kernelspec": {
   "display_name": "Python 3",
   "language": "python",
   "name": "python3"
  },
  "language_info": {
   "codemirror_mode": {
    "name": "ipython",
    "version": 3
   },
   "file_extension": ".py",
   "mimetype": "text/x-python",
   "name": "python",
   "nbconvert_exporter": "python",
   "pygments_lexer": "ipython3",
   "version": "3.7.6"
  },
  "widgets": {
   "application/vnd.jupyter.widget-state+json": {
    "state": {
     "09f3d97ee1e44ed2b9c1b73d10cd4e29": {
      "model_module": "@jupyter-widgets/output",
      "model_module_version": "1.0.0",
      "model_name": "OutputModel",
      "state": {
       "layout": "IPY_MODEL_c5ae8f3670a841b78311f2ffba581031",
       "outputs": [
        {
         "name": "stdout",
         "output_type": "stream",
         "text": "Kvadrat broja 2 je broj 4\n"
        }
       ]
      }
     },
     "2ce44718fa5e4e65857270b5f7df11c9": {
      "model_module": "@jupyter-widgets/controls",
      "model_module_version": "1.5.0",
      "model_name": "SliderStyleModel",
      "state": {
       "description_width": ""
      }
     },
     "957fe44c3bec46d8a8e8a273cd6f81a2": {
      "model_module": "@jupyter-widgets/controls",
      "model_module_version": "1.5.0",
      "model_name": "VBoxModel",
      "state": {
       "_dom_classes": [
        "widget-interact"
       ],
       "children": [
        "IPY_MODEL_c38370a77916407eb08c859cdcdaa0b4",
        "IPY_MODEL_09f3d97ee1e44ed2b9c1b73d10cd4e29"
       ],
       "layout": "IPY_MODEL_b21d17f7e06b4b52b02b504c26247c06"
      }
     },
     "b21d17f7e06b4b52b02b504c26247c06": {
      "model_module": "@jupyter-widgets/base",
      "model_module_version": "1.2.0",
      "model_name": "LayoutModel",
      "state": {}
     },
     "c38370a77916407eb08c859cdcdaa0b4": {
      "model_module": "@jupyter-widgets/controls",
      "model_module_version": "1.5.0",
      "model_name": "IntSliderModel",
      "state": {
       "description": "x",
       "layout": "IPY_MODEL_ee64445039974ffaa48ac84bfc36ef80",
       "max": 5,
       "min": 1,
       "style": "IPY_MODEL_2ce44718fa5e4e65857270b5f7df11c9",
       "value": 2
      }
     },
     "c5ae8f3670a841b78311f2ffba581031": {
      "model_module": "@jupyter-widgets/base",
      "model_module_version": "1.2.0",
      "model_name": "LayoutModel",
      "state": {}
     },
     "ee64445039974ffaa48ac84bfc36ef80": {
      "model_module": "@jupyter-widgets/base",
      "model_module_version": "1.2.0",
      "model_name": "LayoutModel",
      "state": {}
     }
    },
    "version_major": 2,
    "version_minor": 0
   }
  }
 },
 "nbformat": 4,
 "nbformat_minor": 4
}
